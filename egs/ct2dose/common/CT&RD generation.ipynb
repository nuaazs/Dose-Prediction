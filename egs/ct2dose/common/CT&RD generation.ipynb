{
 "cells": [
  {
   "cell_type": "code",
   "execution_count": 1,
   "metadata": {},
   "outputs": [],
   "source": [
    "import os\n",
    "import SimpleITK as sitk\n",
    "import math\n",
    "import glob\n",
    "import pandas as pd\n",
    "import random\n",
    "import time\n",
    "import cv2\n",
    "import torch\n",
    "import torch.nn as nn\n",
    "import torch.nn.functional as F\n",
    "import torchvision\n",
    "from torchvision import transforms\n",
    "import numpy as np\n",
    "import matplotlib.pyplot as plt\n",
    "from PIL import Image\n",
    "from torch.utils.data import Dataset, DataLoader\n",
    "import PIL\n",
    "import pydicom"
   ]
  },
  {
   "cell_type": "code",
   "execution_count": 2,
   "metadata": {},
   "outputs": [
    {
     "name": "stdout",
     "output_type": "stream",
     "text": [
      "test patient2/RT231416/CT.nrrd\n",
      "(141, 512, 512)\n",
      "test patient2/RT231774/CT.nrrd\n",
      "(145, 512, 512)\n",
      "test patient2/RT232101/CT.nrrd\n",
      "(164, 512, 512)\n"
     ]
    }
   ],
   "source": [
    "images=os.listdir('test patient2')\n",
    "images\n",
    "for i in images:\n",
    "    ct_path='{}/CT.nrrd'.format(i)\n",
    "    CT_path='test patient2/{}'.format(ct_path)\n",
    "    print(CT_path)\n",
    "    ct=sitk.ReadImage(CT_path)\n",
    "    ct_array=sitk.GetArrayFromImage(ct)\n",
    "    #保存为{}_ct.npy\n",
    "    number=ct_path[0:8]\n",
    "    savepath='test input2\\CT\\{}_ct.npy'.format(number)\n",
    "    np.save(savepath,ct_array)\n",
    "    print(ct_array.shape)\n"
   ]
  },
  {
   "cell_type": "code",
   "execution_count": 3,
   "metadata": {},
   "outputs": [],
   "source": [
    "#dose重采样到和CT一样大小\n",
    "def align_coordinate(ori_img, target_img, resamplemethod=sitk.sitkNearestNeighbor):\n",
    "    #     \"  用itk方法将原始图像resample到与目标图像一致\n",
    "    #    :param ori_img: 原始需要对齐的itk图像\n",
    "    #    :param target_img: 要对齐的目标itk图像\n",
    "    #    :param resamplemethod: itk插值方法: sitk.sitkLinear-线性  sitk.sitkNearestNeighbor-最近邻\n",
    "    #    :return:img_res_itk: 重采样好的itk图像\n",
    "\n",
    "    target_Size = target_img.GetSize()  # 目标图像大小  [x,y,z]\n",
    "    target_Spacing = target_img.GetSpacing()  # 目标的体素块尺寸    [x,y,z]\n",
    "    target_origin = target_img.GetOrigin()  # 目标的起点 [x,y,z]\n",
    "    target_direction = target_img.GetDirection()  # 目标的方向 [冠,矢,横]=[z,y,x]\n",
    "\n",
    "    # itk的方法进行resample\n",
    "    resampler = sitk.ResampleImageFilter()\n",
    "    resampler.SetReferenceImage(ori_img)  # 需要重新采样的目标图像\n",
    "    # 设置目标图像的信息\n",
    "    resampler.SetSize(target_Size)  # 目标图像大小\n",
    "    resampler.SetOutputOrigin(target_origin)\n",
    "    resampler.SetOutputDirection(target_direction)\n",
    "    resampler.SetOutputSpacing(target_Spacing)\n",
    "    # 根据需要重采样图像的情况设置不同的dype\n",
    "    if resamplemethod == sitk.sitkNearestNeighbor:\n",
    "        resampler.SetOutputPixelType(sitk.sitkUInt16)  # 近邻插值用于mask的，保存uint16\n",
    "    else:\n",
    "        resampler.SetOutputPixelType(sitk.sitkFloat32)  # 线性插值用于PET/CT/MRI之类的，保存float32\n",
    "    resampler.SetTransform(sitk.Transform(3, sitk.sitkIdentity))\n",
    "    resampler.SetInterpolator(resamplemethod)\n",
    "    itk_img_resampled = resampler.Execute(ori_img)  # 得到重新采样后的图像\n",
    "    return itk_img_resampled"
   ]
  },
  {
   "cell_type": "code",
   "execution_count": 4,
   "metadata": {},
   "outputs": [
    {
     "name": "stdout",
     "output_type": "stream",
     "text": [
      "test patient2/RT231416/RD/95487635_Cervixfinal_Dose.dcm\n",
      "test patient2/RT231416/CT.nrrd\n",
      "test patient2/RT231774/RD/95513677_CervixPlan_Dose.dcm\n",
      "test patient2/RT231774/CT.nrrd\n",
      "test patient2/RT232101/RD/1816939_Cervixfinal_Dose.dcm\n",
      "test patient2/RT232101/CT.nrrd\n"
     ]
    }
   ],
   "source": [
    "images=os.listdir('test patient2')\n",
    "for i in images:\n",
    "    #抓取dose的路径\n",
    "    dose_path='{}/RD'.format(i)\n",
    "    RD_path='test patient2/{}'.format(dose_path)\n",
    "    path=os.listdir(RD_path)\n",
    "    for n in path:\n",
    "        ori_path='{}/{}'.format(RD_path,n)\n",
    "    print(ori_path)\n",
    "    ori_img=sitk.ReadImage(ori_path)\n",
    "    #抓取CT的路径\n",
    "    ct_path='{}/CT.nrrd'.format(i)\n",
    "    target_path='test patient2/{}'.format(ct_path)\n",
    "    print(target_path)\n",
    "    target_img=sitk.ReadImage(target_path)\n",
    "    return_img=align_coordinate(ori_img, target_img, resamplemethod=sitk.sitkNearestNeighbor)\n",
    "\n",
    "    return_array=sitk.GetArrayFromImage(return_img)\n",
    "    i=dose_path[0:8]\n",
    "    savepath='test output2\\{}_rd.npy'.format(i)\n",
    "    np.save(savepath,return_array)"
   ]
  }
 ],
 "metadata": {
  "kernelspec": {
   "display_name": "Python 3.8.3 ('base')",
   "language": "python",
   "name": "python3"
  },
  "language_info": {
   "codemirror_mode": {
    "name": "ipython",
    "version": 3
   },
   "file_extension": ".py",
   "mimetype": "text/x-python",
   "name": "python",
   "nbconvert_exporter": "python",
   "pygments_lexer": "ipython3",
   "version": "3.8.3"
  },
  "orig_nbformat": 4,
  "vscode": {
   "interpreter": {
    "hash": "49cb93f377a7abe7414b7b0f21fb3017538004a126cf690fb524202736b7fb92"
   }
  }
 },
 "nbformat": 4,
 "nbformat_minor": 2
}
