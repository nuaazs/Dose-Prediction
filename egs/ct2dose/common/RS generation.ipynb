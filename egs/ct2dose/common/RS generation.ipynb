{
 "cells": [
  {
   "cell_type": "code",
   "execution_count": 42,
   "metadata": {},
   "outputs": [],
   "source": [
    "import os\n",
    "import SimpleITK as sitk\n",
    "import math\n",
    "import glob\n",
    "import pandas as pd\n",
    "import random\n",
    "import time\n",
    "import cv2\n",
    "import torch\n",
    "import torch.nn as nn\n",
    "import torch.nn.functional as F\n",
    "import torchvision\n",
    "from torchvision import transforms\n",
    "import numpy as np\n",
    "import matplotlib.pyplot as plt\n",
    "from PIL import Image\n",
    "from torch.utils.data import Dataset, DataLoader\n",
    "import PIL\n",
    "import pydicom"
   ]
  },
  {
   "cell_type": "code",
   "execution_count": 43,
   "metadata": {},
   "outputs": [],
   "source": [
    "#开始structure的提取\n",
    "def drawslince(image, msk, contor):\n",
    "    # size=image.GetSize()\n",
    "    ctor = []\n",
    "    for point in contor:\n",
    "        temppoint = image.TransformPhysicalPointToIndex(point)\n",
    "        ctor.append((temppoint[0], temppoint[1]))\n",
    "    ctor = np.array(ctor).reshape(-1, 1, 2)\n",
    "    # slince=np.zeros((size[0],size[1]))\n",
    "    msk = cv2.drawContours(msk, [ctor], -1, 1, thickness=cv2.FILLED)\n",
    "\n",
    "    return msk, temppoint[2]\n",
    "\n",
    "from dicompylercore import dicomparser\n",
    "########################\n",
    "# 从rtstruct中提取ROI，ROI名字不分大小写包含tg_ctor_name,为mask\n",
    "# mask2nii(image,mskpath,tg_ctor_name,savepath)\n",
    "# image : 原始图像SimpleITK.SimpleITK.Image类型文件\n",
    "# mskpath: RTstruct文件目录\n",
    "# tg_ctor_name: mask roi 名字\n",
    "# savepath保存路径\n",
    "#########################\n",
    "def mask2nii(image, mskpath, tg_ctor_name, savepath):\n",
    "    tg_ctor_name = tg_ctor_name.upper()\n",
    "    rtss = dicomparser.DicomParser(mskpath)\n",
    "    rois = rtss.GetStructures()\n",
    "    roikey = [roi_id for roi_id in rois.keys() if rois[roi_id]['name'].upper() == tg_ctor_name]\n",
    "\n",
    "    if len(roikey) == 0:\n",
    "        return None\n",
    "    ########read mask\n",
    "\n",
    "    size = image.GetSize()  # x, y, z\n",
    "    imagemask = np.zeros(size)\n",
    "    roi = rtss.GetStructureCoordinates(roikey[0])\n",
    "    for slicer_i in roi.keys():\n",
    "        msk = np.zeros((size[0], size[1]))\n",
    "        maskcount = len(roi[slicer_i])\n",
    "\n",
    "        for i in range(maskcount):\n",
    "            tempcontor = roi[slicer_i][i]['data']\n",
    "            msk, slicenum = drawslince(image, msk, tempcontor)\n",
    "        #     sigalcontor=[image.TransformPhysicalPointToIndex(point) for point in tempcontor] #x,y,z\n",
    "        # imagemask=cv2.drawContours(image,sigalcontor,-1,255)\n",
    "        # # if maskcount==1:\n",
    "        #     plt.figure()\n",
    "        #     plt.imshow(msk,cmap='gray')\n",
    "        imagemask[:, :, slicenum] = msk\n",
    "    imagemask = imagemask.transpose((2, 0, 1))\n",
    "    mask = sitk.GetImageFromArray(imagemask)\n",
    "    mask.SetOrigin(image.GetOrigin())\n",
    "    mask.SetDirection(image.GetDirection())\n",
    "    mask.SetSpacing(image.GetSpacing())\n",
    "    # if not savepath == '':\n",
    "    #mask转换成array\n",
    "    # mask=sitk.ReadImage(mask)\n",
    "    # mask_array=sitk.GetArrayFromImage(mask)\n",
    "    # np.save(savepath,mask_array)\n",
    "    sitk.WriteImage(mask, savepath)\n",
    "\n",
    "    return mask"
   ]
  },
  {
   "cell_type": "code",
   "execution_count": 44,
   "metadata": {},
   "outputs": [],
   "source": [
    "#一个病人修改好即可\n",
    "pgtv='PTV2'\n",
    "ptv='PTV1'\n",
    "bladder='Bladder'\n",
    "bowel='SmallIntestine'\n",
    "lfem='FemurHead_L'\n",
    "rfem='FemurHead_R'\n",
    "rectum='Rectum'\n",
    "number='test patient2\\RT232101'"
   ]
  },
  {
   "cell_type": "code",
   "execution_count": 45,
   "metadata": {},
   "outputs": [
    {
     "data": {
      "text/plain": [
       "'RT232101'"
      ]
     },
     "execution_count": 45,
     "metadata": {},
     "output_type": "execute_result"
    }
   ],
   "source": [
    "i=number[14:]\n",
    "i"
   ]
  },
  {
   "cell_type": "code",
   "execution_count": 46,
   "metadata": {},
   "outputs": [
    {
     "name": "stdout",
     "output_type": "stream",
     "text": [
      "RT232101\n"
     ]
    }
   ],
   "source": [
    "#PGTV提取\n",
    "#开始structure的提取，是nii格式（每个单独修改）\n",
    "image_path='{}\\CT.nrrd'.format(number)\n",
    "image=sitk.ReadImage(image_path)\n",
    "RS_path='{}\\RS'.format(number)\n",
    "path=os.listdir(RS_path)\n",
    "for n in path:\n",
    "    maskpath='{}\\{}'.format(RS_path,n)\n",
    "tg_ctor_name=pgtv#########################################危及器官修改处\n",
    "i=number[14:]\n",
    "print(i)\n",
    "savepath='test input2\\PGTV\\{}_pgtv.nii'.format(i)########危及器官名称修改\n",
    "mask2nii(image, maskpath, tg_ctor_name, savepath)\n",
    "\n",
    "#转换成数组numpy格式并保存\n",
    "mask=sitk.ReadImage(savepath)\n",
    "mask_array=sitk.GetArrayFromImage(mask)\n",
    "array_path='test input2\\PGTV\\{}_pgtv.npy'.format(i)########危及器官名称修改\n",
    "np.save(array_path,mask_array)"
   ]
  },
  {
   "cell_type": "code",
   "execution_count": 47,
   "metadata": {},
   "outputs": [],
   "source": [
    "#PTV提取\n",
    "#开始structure的提取，是nii格式（每个单独修改）\n",
    "image_path='{}\\CT.nrrd'.format(number)\n",
    "image=sitk.ReadImage(image_path)\n",
    "RS_path='{}\\RS'.format(number)\n",
    "path=os.listdir(RS_path)\n",
    "for n in path:\n",
    "    maskpath='{}\\{}'.format(RS_path,n)\n",
    "tg_ctor_name=ptv#########################################危及器官修改处\n",
    "i=number[14:]\n",
    "savepath='test input2\\PTV\\{}_ptv.nii'.format(i)########危及器官名称修改\n",
    "mask2nii(image, maskpath, tg_ctor_name, savepath)\n",
    "\n",
    "#转换成数组numpy格式并保存\n",
    "mask=sitk.ReadImage(savepath)\n",
    "mask_array=sitk.GetArrayFromImage(mask)\n",
    "array_path='test input2\\PTV\\{}_ptv.npy'.format(i)########危及器官名称修改\n",
    "np.save(array_path,mask_array)"
   ]
  },
  {
   "cell_type": "code",
   "execution_count": 48,
   "metadata": {},
   "outputs": [],
   "source": [
    "#bladder提取\n",
    "#开始structure的提取，是nii格式（每个单独修改）\n",
    "image_path='{}\\CT.nrrd'.format(number)\n",
    "image=sitk.ReadImage(image_path)\n",
    "RS_path='{}\\RS'.format(number)\n",
    "path=os.listdir(RS_path)\n",
    "for n in path:\n",
    "    maskpath='{}\\{}'.format(RS_path,n)\n",
    "tg_ctor_name=bladder#########################################危及器官修改处\n",
    "i=number[14:]\n",
    "savepath='test input2/bladder/{}_bladder.nii'.format(i)########危及器官名称修改\n",
    "mask2nii(image, maskpath, tg_ctor_name, savepath)\n",
    "\n",
    "#转换成数组numpy格式并保存\n",
    "mask=sitk.ReadImage(savepath)\n",
    "mask_array=sitk.GetArrayFromImage(mask)\n",
    "array_path='test input2/bladder/{}_bladder.npy'.format(i)########危及器官名称修改\n",
    "np.save(array_path,mask_array)"
   ]
  },
  {
   "cell_type": "code",
   "execution_count": 49,
   "metadata": {},
   "outputs": [],
   "source": [
    "#bowel提取\n",
    "#开始structure的提取，是nii格式（每个单独修改）\n",
    "image_path='{}\\CT.nrrd'.format(number)\n",
    "image=sitk.ReadImage(image_path)\n",
    "RS_path='{}\\RS'.format(number)\n",
    "path=os.listdir(RS_path)\n",
    "for n in path:\n",
    "    maskpath='{}\\{}'.format(RS_path,n)\n",
    "tg_ctor_name=bowel#########################################危及器官修改处\n",
    "i=number[14:]\n",
    "savepath='test input2/bowel/{}_bowel.nii'.format(i)########危及器官名称修改\n",
    "mask2nii(image, maskpath, tg_ctor_name, savepath)\n",
    "\n",
    "#转换成数组numpy格式并保存\n",
    "mask=sitk.ReadImage(savepath)\n",
    "mask_array=sitk.GetArrayFromImage(mask)\n",
    "array_path='test input2/bowel/{}_bowel.npy'.format(i)########危及器官名称修改\n",
    "np.save(array_path,mask_array)"
   ]
  },
  {
   "cell_type": "code",
   "execution_count": 50,
   "metadata": {},
   "outputs": [],
   "source": [
    "#lfem提取\n",
    "#开始structure的提取，是nii格式（每个单独修改）\n",
    "image_path='{}\\CT.nrrd'.format(number)\n",
    "image=sitk.ReadImage(image_path)\n",
    "RS_path='{}\\RS'.format(number)\n",
    "path=os.listdir(RS_path)\n",
    "for n in path:\n",
    "    maskpath='{}\\{}'.format(RS_path,n)\n",
    "tg_ctor_name=lfem#########################################危及器官修改处\n",
    "i=number[14:]\n",
    "savepath='test input2\\lfem\\{}_lfem.nii'.format(i)########危及器官名称修改\n",
    "mask2nii(image, maskpath, tg_ctor_name, savepath)\n",
    "\n",
    "#转换成数组numpy格式并保存\n",
    "mask=sitk.ReadImage(savepath)\n",
    "mask_array=sitk.GetArrayFromImage(mask)\n",
    "array_path='test input2\\lfem\\{}_lfem.npy'.format(i)########危及器官名称修改\n",
    "np.save(array_path,mask_array)"
   ]
  },
  {
   "cell_type": "code",
   "execution_count": 51,
   "metadata": {},
   "outputs": [],
   "source": [
    "#rfem提取\n",
    "#开始structure的提取，是nii格式（每个单独修改）\n",
    "image_path='{}\\CT.nrrd'.format(number)\n",
    "image=sitk.ReadImage(image_path)\n",
    "RS_path='{}\\RS'.format(number)\n",
    "path=os.listdir(RS_path)\n",
    "for n in path:\n",
    "    maskpath='{}\\{}'.format(RS_path,n)\n",
    "tg_ctor_name=rfem#########################################危及器官修改处\n",
    "i=number[14:]\n",
    "savepath='test input2/rfem/{}_rfem.nii'.format(i)########危及器官名称修改\n",
    "mask2nii(image, maskpath, tg_ctor_name, savepath)\n",
    "\n",
    "#转换成数组numpy格式并保存\n",
    "mask=sitk.ReadImage(savepath)\n",
    "mask_array=sitk.GetArrayFromImage(mask)\n",
    "array_path='test input2/rfem/{}_rfem.npy'.format(i)########危及器官名称修改\n",
    "np.save(array_path,mask_array)"
   ]
  },
  {
   "cell_type": "code",
   "execution_count": 52,
   "metadata": {},
   "outputs": [],
   "source": [
    "#rectum提取\n",
    "#开始structure的提取，是nii格式（每个单独修改）\n",
    "image_path='{}\\CT.nrrd'.format(number)\n",
    "image=sitk.ReadImage(image_path)\n",
    "RS_path='{}\\RS'.format(number)\n",
    "path=os.listdir(RS_path)\n",
    "for n in path:\n",
    "    maskpath='{}\\{}'.format(RS_path,n)\n",
    "tg_ctor_name=rectum#########################################危及器官修改处\n",
    "i=number[14:]\n",
    "savepath='test input2/rectum/{}_rectum.nii'.format(i)########危及器官名称修改\n",
    "mask2nii(image, maskpath, tg_ctor_name, savepath)\n",
    "\n",
    "#转换成数组numpy格式并保存\n",
    "mask=sitk.ReadImage(savepath)\n",
    "mask_array=sitk.GetArrayFromImage(mask)\n",
    "array_path='test input2/rectum/{}_rectum.npy'.format(i)########危及器官名称修改\n",
    "np.save(array_path,mask_array)"
   ]
  },
  {
   "cell_type": "code",
   "execution_count": 54,
   "metadata": {},
   "outputs": [
    {
     "data": {
      "text/plain": [
       "<matplotlib.image.AxesImage at 0x1ee04577940>"
      ]
     },
     "execution_count": 54,
     "metadata": {},
     "output_type": "execute_result"
    },
    {
     "data": {
      "image/png": "[encoded data removed]",
      "text/plain": [
       "<Figure size 432x288 with 2 Axes>"
      ]
     },
     "metadata": {
      "needs_background": "light"
     },
     "output_type": "display_data"
    }
   ],
   "source": [
    "PTV_array=np.load('test input2\\PTV\\RT232101_ptv.npy')\n",
    "PGTV_array=np.load('test input2/pgtv\\RT232101_pgtv.npy')\n",
    "PTV_pic=PTV_array[47,:,:]\n",
    "PGTV_pic=PGTV_array[47,:,:]\n",
    "plt.subplot(1,2,1)\n",
    "plt.imshow(PTV_pic)\n",
    "plt.subplot(1,2,2)\n",
    "plt.imshow(PGTV_pic)"
   ]
  }
 ],
 "metadata": {
  "kernelspec": {
   "display_name": "Python 3.8.3 ('base')",
   "language": "python",
   "name": "python3"
  },
  "language_info": {
   "codemirror_mode": {
    "name": "ipython",
    "version": 3
   },
   "file_extension": ".py",
   "mimetype": "text/x-python",
   "name": "python",
   "nbconvert_exporter": "python",
   "pygments_lexer": "ipython3",
   "version": "3.8.3"
  },
  "orig_nbformat": 4,
  "vscode": {
   "interpreter": {
    "hash": "49cb93f377a7abe7414b7b0f21fb3017538004a126cf690fb524202736b7fb92"
   }
  }
 },
 "nbformat": 4,
 "nbformat_minor": 2
}
